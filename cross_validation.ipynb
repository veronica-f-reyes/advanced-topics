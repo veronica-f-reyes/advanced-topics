{
 "cells": [
  {
   "cell_type": "markdown",
   "id": "86da1f31-2ddb-4ea0-83ec-47d6df9c4dbb",
   "metadata": {},
   "source": [
    "## Setup"
   ]
  },
  {
   "cell_type": "markdown",
   "id": "9f32a0ba-1196-4b31-a9c3-cacf25573d3a",
   "metadata": {},
   "source": [
    "We'll use the mpg dataset and predict whether a car has automatic or manual transmission."
   ]
  },
  {
   "cell_type": "code",
   "execution_count": null,
   "id": "5956f40e-49f1-4a8a-9696-fd652b9b5672",
   "metadata": {},
   "outputs": [],
   "source": [
    "import numpy as np\n",
    "import pandas as pd\n",
    "import matplotlib.pyplot as plt\n",
    "import pydataset\n",
    "\n",
    "from sklearn.model_selection import cross_val_score, GridSearchCV, train_test_split\n",
    "from sklearn.tree import DecisionTreeClassifier\n",
    "from sklearn.neighbors import KNeighborsClassifier"
   ]
  },
  {
   "cell_type": "code",
   "execution_count": null,
   "id": "c507430f-fde1-43d1-9943-a25452dcb312",
   "metadata": {},
   "outputs": [],
   "source": [
    "mpg = pydataset.data('mpg')\n",
    "mpg.trans = np.where(mpg.trans.str.startswith('auto'), 'auto', 'manual')"
   ]
  },
  {
   "cell_type": "code",
   "execution_count": null,
   "id": "f15de520-e4ea-4779-8b1c-42860c3d71db",
   "metadata": {},
   "outputs": [],
   "source": [
    "X, y = mpg[['displ', 'cyl', 'cty', 'hwy']], mpg.trans"
   ]
  },
  {
   "cell_type": "code",
   "execution_count": null,
   "id": "4a2933ce-a6de-42d9-b3a3-ed7ae942cf92",
   "metadata": {},
   "outputs": [],
   "source": [
    "X_train, X_test, y_train, y_test = train_test_split(X, y, random_state=123)"
   ]
  },
  {
   "cell_type": "markdown",
   "id": "47497abe-0d11-4e6e-813e-e24330e2fe5d",
   "metadata": {},
   "source": [
    "## `.cross_val_score`"
   ]
  },
  {
   "cell_type": "code",
   "execution_count": null,
   "id": "fe2322e6-2d6c-41a6-a640-01fc30cc1315",
   "metadata": {},
   "outputs": [],
   "source": [
    "clf = DecisionTreeClassifier(max_depth=4)\n",
    "cross_val_score(clf, X_train, y_train, cv=5).mean()"
   ]
  },
  {
   "cell_type": "code",
   "execution_count": null,
   "id": "aa2ab63d-c277-46c7-a2e6-e14e4eca4d17",
   "metadata": {},
   "outputs": [],
   "source": [
    "# TODO: loop through various depths and plot accuracy against depth"
   ]
  },
  {
   "cell_type": "code",
   "execution_count": null,
   "id": "b1c94494-7bdb-4458-94d0-24f59bdef1eb",
   "metadata": {},
   "outputs": [],
   "source": [
    "# TODO: use a metric other than accuracy"
   ]
  },
  {
   "cell_type": "markdown",
   "id": "d703fff5-38b9-4528-b1a0-0e1bc52cfde2",
   "metadata": {},
   "source": [
    "## Grid Search"
   ]
  },
  {
   "cell_type": "code",
   "execution_count": null,
   "id": "d0a4b085-161b-4ca3-8ffb-43b5cde1ca52",
   "metadata": {},
   "outputs": [],
   "source": [
    "clf = KNeighborsClassifier()\n",
    "grid = GridSearchCV(clf, {'n_neighbors': range(1, 21)}, cv=5)\n",
    "grid.fit(X_train, y_train)"
   ]
  },
  {
   "cell_type": "code",
   "execution_count": null,
   "id": "6b132639-fbdb-49f6-a0fe-bff83b920841",
   "metadata": {},
   "outputs": [],
   "source": [
    "grid.cv_results_['mean_test_score']"
   ]
  },
  {
   "cell_type": "code",
   "execution_count": null,
   "id": "056a9d41-1bae-4dfc-a4c4-7269d2d89d88",
   "metadata": {},
   "outputs": [],
   "source": [
    "grid.cv_results_['params']"
   ]
  },
  {
   "cell_type": "code",
   "execution_count": null,
   "id": "25c3939e-7c9a-485a-bae5-a4a457a25400",
   "metadata": {},
   "outputs": [],
   "source": [
    "# TODO: look at the best score, params"
   ]
  },
  {
   "cell_type": "code",
   "execution_count": null,
   "id": "16cc4f5f-1967-454d-a077-526a21a9c6ec",
   "metadata": {},
   "outputs": [],
   "source": [
    "# TODO: get the best model"
   ]
  },
  {
   "cell_type": "code",
   "execution_count": null,
   "id": "d8b58770-9b11-4372-b628-647f10df0aff",
   "metadata": {},
   "outputs": [],
   "source": [
    "clf = DecisionTreeClassifier()\n",
    "grid = GridSearchCV(clf, {'max_depth': range(1, 21), 'min_samples_leaf': range(1, 11)}, cv=10)\n",
    "grid.fit(X_train, y_train)"
   ]
  },
  {
   "cell_type": "code",
   "execution_count": null,
   "id": "90534bd7-d94b-4781-8e84-bc65ab031ba2",
   "metadata": {},
   "outputs": [],
   "source": [
    "# TODO: get all the info into one list of dicts"
   ]
  },
  {
   "cell_type": "code",
   "execution_count": null,
   "id": "9e4b25dc-2e6b-484d-89ae-19e5ef229a7b",
   "metadata": {},
   "outputs": [],
   "source": [
    "# TODO: convert to a dataframe"
   ]
  },
  {
   "cell_type": "markdown",
   "id": "3d91b27e-eb79-4f7a-98dd-2e608ea963b7",
   "metadata": {},
   "source": [
    "## Exercise\n",
    "\n",
    "1. Use the cross validation techniques described in the lesson to find the best model for predicting transmission type with the mpg dataset.\n",
    "1. Use cross validation techniques to determine the best model for predicting survival with the titanic dataset.\n",
    "1. Use cross validation techniques to determine the best model for predicting tip amount with the tips dataset."
   ]
  }
 ],
 "metadata": {
  "kernelspec": {
   "display_name": "Python 3",
   "language": "python",
   "name": "python3"
  },
  "language_info": {
   "codemirror_mode": {
    "name": "ipython",
    "version": 3
   },
   "file_extension": ".py",
   "mimetype": "text/x-python",
   "name": "python",
   "nbconvert_exporter": "python",
   "pygments_lexer": "ipython3",
   "version": "3.8.8"
  }
 },
 "nbformat": 4,
 "nbformat_minor": 5
}
